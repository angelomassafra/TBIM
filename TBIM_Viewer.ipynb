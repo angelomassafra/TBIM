{
 "cells": [
  {
   "cell_type": "markdown",
   "id": "b153d26b",
   "metadata": {},
   "source": [
    "# Import"
   ]
  },
  {
   "cell_type": "code",
   "execution_count": 1,
   "id": "252176a8",
   "metadata": {},
   "outputs": [],
   "source": [
    "# Import topologicpy modules\n",
    "from topologicpy.Topology import Topology\n",
    "from topologicpy.CellComplex import CellComplex\n",
    "from topologicpy.Cell import Cell\n",
    "from topologicpy.Color import Color\n",
    "from topologicpy.Dictionary import Dictionary\n",
    "from topologicpy.Plotly import Plotly \n",
    "from topologicpy.Face import Face "
   ]
  },
  {
   "cell_type": "code",
   "execution_count": 2,
   "id": "70d6f293",
   "metadata": {},
   "outputs": [],
   "source": [
    "# Import Python file with plot functions\n",
    "import TBIM "
   ]
  },
  {
   "cell_type": "code",
   "execution_count": 3,
   "id": "1edc0182",
   "metadata": {},
   "outputs": [],
   "source": [
    "# Set True to Plot\n",
    "plot = False"
   ]
  },
  {
   "cell_type": "markdown",
   "id": "b7e331c4",
   "metadata": {},
   "source": [
    "# CellComplex"
   ]
  },
  {
   "cell_type": "code",
   "execution_count": 4,
   "id": "c5bc5b6f",
   "metadata": {},
   "outputs": [
    {
     "data": {
      "application/vnd.jupyter.widget-view+json": {
       "model_id": "c18eff8c2f014a0cb8cb09a6939eb09c",
       "version_major": 2,
       "version_minor": 0
      },
      "text/plain": [
       "  0%|          | 0/336 [00:00<?, ?it/s]"
      ]
     },
     "metadata": {},
     "output_type": "display_data"
    }
   ],
   "source": [
    "# Import the TBIM CellComplex\n",
    "cellComplex = Topology.ByJSONPath('BIM/TBIM_Topologic.json')"
   ]
  },
  {
   "cell_type": "markdown",
   "id": "7e71078f",
   "metadata": {},
   "source": [
    "# Plot"
   ]
  },
  {
   "cell_type": "markdown",
   "id": "878f3cad",
   "metadata": {},
   "source": [
    "## Cells"
   ]
  },
  {
   "cell_type": "code",
   "execution_count": 5,
   "id": "30ffb8a1",
   "metadata": {},
   "outputs": [],
   "source": [
    "# OccupancyType\n",
    "if plot:\n",
    "    TBIM.Plot_CellsByKey(cellComplex=cellComplex,key=\"pr_OccupancyType\",keyType=\"str\",colorScale='turbo',unitsString=\"\")"
   ]
  },
  {
   "cell_type": "code",
   "execution_count": 6,
   "id": "b160d7f5",
   "metadata": {},
   "outputs": [],
   "source": [
    "# CirculationType\n",
    "if plot:\n",
    "    TBIM.Plot_CellsByKey(cellComplex,key=\"pr_CirculationType\",keyType=\"str\",colorScale='turbo',unitsString=\"\")"
   ]
  },
  {
   "cell_type": "code",
   "execution_count": 7,
   "id": "67e3e08b",
   "metadata": {},
   "outputs": [],
   "source": [
    "# AreaPerOccupant\n",
    "if plot:\n",
    "    TBIM.Plot_CellsByKey(cellComplex,key=\"pr_AreaPerOccupantPeak\",keyType=\"num\",colorScale='viridis',unitsString=\"sqm/pp\")"
   ]
  },
  {
   "cell_type": "code",
   "execution_count": 8,
   "id": "639b2e40",
   "metadata": {},
   "outputs": [],
   "source": [
    "# IsHeated\n",
    "if plot:\n",
    "    TBIM.Plot_CellsByKey(cellComplex,key=\"pr_IsHeated\",keyType=\"num\",colorScale='inferno',unitsString=\"bool\")"
   ]
  },
  {
   "cell_type": "markdown",
   "id": "b1c3a331",
   "metadata": {},
   "source": [
    "## Faces"
   ]
  },
  {
   "cell_type": "code",
   "execution_count": 9,
   "id": "ef3e2181",
   "metadata": {},
   "outputs": [],
   "source": [
    "# FaceExposure\n",
    "if plot:\n",
    "    TBIM.Plot_FacesByKey(cellComplex,CellComplex.Decompose(cellComplex)['externalVerticalFaces'],\n",
    "                     key=\"pr_FaceExposure\",keyType=\"str\",colorScale='turbo',unitsString=\"\")"
   ]
  },
  {
   "cell_type": "code",
   "execution_count": 10,
   "id": "cae5c9df",
   "metadata": {},
   "outputs": [],
   "source": [
    "# WallTypeName\n",
    "if plot:\n",
    "    TBIM.Plot_FacesByKey(cellComplex,\n",
    "                     CellComplex.Decompose(cellComplex)['externalVerticalFaces']+CellComplex.Decompose(cellComplex)['internalVerticalFaces'],\n",
    "                     key=\"pr_WallTypeName\",keyType=\"str\",colorScale='turbo',unitsString=\"\")"
   ]
  },
  {
   "cell_type": "markdown",
   "id": "952ce762",
   "metadata": {},
   "source": [
    "## Apertures"
   ]
  },
  {
   "cell_type": "code",
   "execution_count": 11,
   "id": "8c54e53a",
   "metadata": {},
   "outputs": [],
   "source": [
    "# U-Value\n",
    "if plot:\n",
    "    TBIM.Plot_AperturesByKey(cellComplex,\n",
    "                         CellComplex.Decompose(cellComplex)['externalVerticalFaces'],\n",
    "                         'pr_UValue')"
   ]
  },
  {
   "cell_type": "code",
   "execution_count": 12,
   "id": "dcfdc5b1",
   "metadata": {},
   "outputs": [],
   "source": [
    "# Width\n",
    "if plot:\n",
    "    TBIM.Plot_AperturesByKey(cellComplex,\n",
    "                         CellComplex.Decompose(cellComplex)['externalVerticalFaces'],\n",
    "                         'pr_Width')"
   ]
  },
  {
   "cell_type": "markdown",
   "id": "2b0819be",
   "metadata": {},
   "source": [
    "## Graph"
   ]
  },
  {
   "cell_type": "code",
   "execution_count": 13,
   "id": "c1ca3722",
   "metadata": {},
   "outputs": [],
   "source": [
    "if plot:\n",
    "    TBIM.Plot_PassageGraph(cellComplex,vertexSize=5,edgeWidth=3)"
   ]
  }
 ],
 "metadata": {
  "kernelspec": {
   "display_name": "Python 3 (ipykernel)",
   "language": "python",
   "name": "python3"
  },
  "language_info": {
   "codemirror_mode": {
    "name": "ipython",
    "version": 3
   },
   "file_extension": ".py",
   "mimetype": "text/x-python",
   "name": "python",
   "nbconvert_exporter": "python",
   "pygments_lexer": "ipython3",
   "version": "3.8.5"
  }
 },
 "nbformat": 4,
 "nbformat_minor": 5
}
